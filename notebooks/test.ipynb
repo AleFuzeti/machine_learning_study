{
 "cells": [
  {
   "cell_type": "markdown",
   "id": "107ba351",
   "metadata": {},
   "source": [
    "# Note"
   ]
  },
  {
   "cell_type": "code",
   "execution_count": 1,
   "id": "e6902de5",
   "metadata": {},
   "outputs": [
    {
     "name": "stdout",
     "output_type": "stream",
     "text": [
      "Bibliotecas importadas com sucesso!\n"
     ]
    }
   ],
   "source": [
    "# Importando as bibliotecas essenciais\n",
    "import numpy as np\n",
    "import pandas as pd\n",
    "import matplotlib.pyplot as plt\n",
    "import seaborn as sns\n",
    "from sklearn.model_selection import train_test_split\n",
    "from sklearn.linear_model import LinearRegression\n",
    "from sklearn.metrics import mean_squared_error, r2_score\n",
    "\n",
    "# Configuração para melhor visualização\n",
    "plt.style.use('seaborn-v0_8')\n",
    "sns.set_palette(\"husl\")\n",
    "print(\"Bibliotecas importadas com sucesso!\")"
   ]
  },
  {
   "cell_type": "markdown",
   "id": "128bedce",
   "metadata": {},
   "source": [
    "## 2. Criação de Dados de Exemplo\n",
    "\n",
    "Vamos criar um dataset simples para trabalharmos:"
   ]
  },
  {
   "cell_type": "code",
   "execution_count": null,
   "id": "1b2dd2e6",
   "metadata": {},
   "outputs": [],
   "source": [
    "# Criando dados de exemplo\n",
    "np.random.seed(42)\n",
    "\n",
    "# Simulando dados de vendas de casas\n",
    "n_amostras = 100\n",
    "area_casa = np.random.normal(150, 50, n_amostras)  # área em m²\n",
    "preco_casa = area_casa * 2000 + np.random.normal(0, 20000, n_amostras)  # preço em R$\n",
    "\n",
    "# Criando um DataFrame\n",
    "dados = pd.DataFrame({\n",
    "    'area_m2': area_casa,\n",
    "    'preco_reais': preco_casa\n",
    "})\n",
    "\n",
    "print(\"Dataset criado!\")\n",
    "print(f\"Formato dos dados: {dados.shape}\")\n",
    "print(\"\\nPrimeiras 5 linhas:\")\n",
    "dados.head()"
   ]
  },
  {
   "cell_type": "markdown",
   "id": "90b2c52e",
   "metadata": {},
   "source": [
    "## 3. Análise Exploratória dos Dados\n",
    "\n",
    "Vamos explorar nossos dados:"
   ]
  },
  {
   "cell_type": "code",
   "execution_count": null,
   "id": "e91d5f60",
   "metadata": {},
   "outputs": [],
   "source": [
    "# Estatísticas descritivas\n",
    "print(\"Estatísticas descritivas:\")\n",
    "print(dados.describe())\n",
    "\n",
    "print(\"\\nInformações sobre o dataset:\")\n",
    "print(dados.info())\n",
    "\n",
    "print(\"\\nCorrelação entre variáveis:\")\n",
    "print(dados.corr())"
   ]
  },
  {
   "cell_type": "markdown",
   "id": "dc09f260",
   "metadata": {},
   "source": [
    "## 4. Visualização dos Dados\n",
    "\n",
    "Vamos criar alguns gráficos para entender melhor nossos dados:"
   ]
  },
  {
   "cell_type": "code",
   "execution_count": null,
   "id": "88cd6ab2",
   "metadata": {},
   "outputs": [],
   "source": [
    "# Criando visualizações\n",
    "fig, axes = plt.subplots(2, 2, figsize=(12, 10))\n",
    "\n",
    "# Gráfico de dispersão\n",
    "axes[0, 0].scatter(dados['area_m2'], dados['preco_reais'], alpha=0.6)\n",
    "axes[0, 0].set_xlabel('Área (m²)')\n",
    "axes[0, 0].set_ylabel('Preço (R$)')\n",
    "axes[0, 0].set_title('Relação entre Área e Preço')\n",
    "\n",
    "# Histograma da área\n",
    "axes[0, 1].hist(dados['area_m2'], bins=15, alpha=0.7, color='skyblue')\n",
    "axes[0, 1].set_xlabel('Área (m²)')\n",
    "axes[0, 1].set_ylabel('Frequência')\n",
    "axes[0, 1].set_title('Distribuição da Área')\n",
    "\n",
    "# Histograma do preço\n",
    "axes[1, 0].hist(dados['preco_reais'], bins=15, alpha=0.7, color='lightcoral')\n",
    "axes[1, 0].set_xlabel('Preço (R$)')\n",
    "axes[1, 0].set_ylabel('Frequência')\n",
    "axes[1, 0].set_title('Distribuição do Preço')\n",
    "\n",
    "# Boxplot\n",
    "axes[1, 1].boxplot([dados['area_m2'], dados['preco_reais']])\n",
    "axes[1, 1].set_xticklabels(['Área (m²)', 'Preço (R$)'])\n",
    "axes[1, 1].set_title('Boxplot das Variáveis')\n",
    "\n",
    "plt.tight_layout()\n",
    "plt.show()"
   ]
  },
  {
   "cell_type": "markdown",
   "id": "72f3714c",
   "metadata": {},
   "source": [
    "## 5. Modelo de Machine Learning Simples\n",
    "\n",
    "Agora vamos criar um modelo de regressão linear para prever o preço das casas baseado na área:"
   ]
  },
  {
   "cell_type": "code",
   "execution_count": null,
   "id": "072b3b9d",
   "metadata": {},
   "outputs": [],
   "source": [
    "# Preparando os dados\n",
    "X = dados[['area_m2']]  # Features (variável independente)\n",
    "y = dados['preco_reais']  # Target (variável dependente)\n",
    "\n",
    "# Dividindo os dados em treino e teste\n",
    "X_train, X_test, y_train, y_test = train_test_split(X, y, test_size=0.2, random_state=42)\n",
    "\n",
    "print(f\"Dados de treino: {X_train.shape[0]} amostras\")\n",
    "print(f\"Dados de teste: {X_test.shape[0]} amostras\")\n",
    "\n",
    "# Criando e treinando o modelo\n",
    "modelo = LinearRegression()\n",
    "modelo.fit(X_train, y_train)\n",
    "\n",
    "print(\"Modelo treinado com sucesso!\")\n",
    "print(f\"Coeficiente: {modelo.coef_[0]:.2f}\")\n",
    "print(f\"Intercepto: {modelo.intercept_:.2f}\")"
   ]
  },
  {
   "cell_type": "markdown",
   "id": "c107f617",
   "metadata": {},
   "source": [
    "## 6. Avaliação do Modelo\n",
    "\n",
    "Vamos avaliar como nosso modelo está performando:"
   ]
  },
  {
   "cell_type": "code",
   "execution_count": null,
   "id": "0fed7fba",
   "metadata": {},
   "outputs": [],
   "source": [
    "# Fazendo previsões\n",
    "y_pred = modelo.predict(X_test)\n",
    "\n",
    "# Calculando métricas\n",
    "mse = mean_squared_error(y_test, y_pred)\n",
    "r2 = r2_score(y_test, y_pred)\n",
    "\n",
    "print(\"Métricas de Avaliação:\")\n",
    "print(f\"Erro Quadrático Médio (MSE): {mse:.2f}\")\n",
    "print(f\"Coeficiente de Determinação (R²): {r2:.3f}\")\n",
    "\n",
    "# Visualizando as previsões\n",
    "plt.figure(figsize=(10, 6))\n",
    "plt.scatter(X_test, y_test, alpha=0.6, label='Valores Reais')\n",
    "plt.scatter(X_test, y_pred, alpha=0.6, color='red', label='Previsões')\n",
    "plt.plot(X_test, y_pred, color='red', linewidth=2, alpha=0.8)\n",
    "plt.xlabel('Área (m²)')\n",
    "plt.ylabel('Preço (R$)')\n",
    "plt.title('Valores Reais vs Previsões')\n",
    "plt.legend()\n",
    "plt.show()\n",
    "\n",
    "# Exemplo de previsão\n",
    "area_exemplo = 120\n",
    "preco_previsto = modelo.predict([[area_exemplo]])[0]\n",
    "print(f\"\\nExemplo: Uma casa de {area_exemplo}m² teria preço previsto de R$ {preco_previsto:.2f}\")"
   ]
  },
  {
   "cell_type": "markdown",
   "id": "8f0ff485",
   "metadata": {},
   "source": [
    "## 7. Conclusão\n",
    "\n",
    "Neste notebook simples, aprendemos:\n",
    "\n",
    "1. **Importação de bibliotecas** essenciais para ML\n",
    "2. **Criação e manipulação** de dados com Pandas\n",
    "3. **Análise exploratória** dos dados\n",
    "4. **Visualização** com Matplotlib\n",
    "5. **Criação de um modelo** de regressão linear\n",
    "6. **Avaliação** do modelo com métricas\n",
    "\n",
    "### Próximos Passos:\n",
    "- Explorar diferentes algoritmos de ML\n",
    "- Trabalhar com datasets reais\n",
    "- Aprender técnicas de feature engineering\n",
    "- Implementar validação cruzada\n",
    "- Otimizar hiperparâmetros\n",
    "\n",
    "**Parabéns!** Você completou seu primeiro notebook de Machine Learning! 🎉"
   ]
  }
 ],
 "metadata": {
  "kernelspec": {
   "display_name": ".venv",
   "language": "python",
   "name": "python3"
  },
  "language_info": {
   "codemirror_mode": {
    "name": "ipython",
    "version": 3
   },
   "file_extension": ".py",
   "mimetype": "text/x-python",
   "name": "python",
   "nbconvert_exporter": "python",
   "pygments_lexer": "ipython3",
   "version": "3.10.12"
  }
 },
 "nbformat": 4,
 "nbformat_minor": 5
}
